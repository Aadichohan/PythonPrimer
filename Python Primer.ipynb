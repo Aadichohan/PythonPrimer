{
 "cells": [
  {
   "cell_type": "code",
   "execution_count": 1,
   "id": "8d3dbbf9",
   "metadata": {},
   "outputs": [
    {
     "name": "stdout",
     "output_type": "stream",
     "text": [
      "ABCD\n"
     ]
    }
   ],
   "source": [
    "a = \"ABCD\"\n",
    "print(a)"
   ]
  },
  {
   "cell_type": "code",
   "execution_count": 2,
   "id": "2622d59b",
   "metadata": {},
   "outputs": [
    {
     "name": "stdout",
     "output_type": "stream",
     "text": [
      "ABCD\n",
      "XYZ\n"
     ]
    }
   ],
   "source": [
    "# Add Multi Lines in String\n",
    "b = '''ABCD\n",
    "XYZ'''\n",
    "print(b)"
   ]
  },
  {
   "cell_type": "code",
   "execution_count": 3,
   "id": "a42c5ed5",
   "metadata": {},
   "outputs": [
    {
     "name": "stdout",
     "output_type": "stream",
     "text": [
      " He Said, \"Aren't can't shouldn't wouldn't\"\n"
     ]
    }
   ],
   "source": [
    "# Silly String with triple single quote\n",
    "silly_string = ''' He Said, \"Aren't can't shouldn't wouldn't\"'''\n",
    "print(silly_string)"
   ]
  },
  {
   "cell_type": "code",
   "execution_count": 4,
   "id": "3cca29a3",
   "metadata": {},
   "outputs": [
    {
     "name": "stdout",
     "output_type": "stream",
     "text": [
      "He Said, \"Aren't can't shouldn't wouldn't\"\n"
     ]
    }
   ],
   "source": [
    "# Silly String with back slash\n",
    "silly_string = 'He Said, \"Aren\\'t can\\'t shouldn\\'t wouldn\\'t\"'\n",
    "print(silly_string)"
   ]
  },
  {
   "cell_type": "code",
   "execution_count": 5,
   "id": "34ef0cf1",
   "metadata": {},
   "outputs": [
    {
     "name": "stdout",
     "output_type": "stream",
     "text": [
      "My points are 100 \n"
     ]
    }
   ],
   "source": [
    "# Embedding VAlue in Strings\n",
    "num = 100\n",
    "str = \"My points are %s \"\n",
    "print(str % num)"
   ]
  },
  {
   "cell_type": "code",
   "execution_count": 6,
   "id": "e80ed892",
   "metadata": {},
   "outputs": [
    {
     "name": "stdout",
     "output_type": "stream",
     "text": [
      "I Sored in English 100  and Math 80\n"
     ]
    }
   ],
   "source": [
    "# Embedding Multiple Values in Strings\n",
    "eng = 100\n",
    "math = 80\n",
    "str = \"I Sored in English %s  and Math %s\"\n",
    "print(str % (eng, math))"
   ]
  },
  {
   "cell_type": "code",
   "execution_count": 8,
   "id": "0abe6e93",
   "metadata": {},
   "outputs": [
    {
     "name": "stdout",
     "output_type": "stream",
     "text": [
      "aaaa\n"
     ]
    }
   ],
   "source": [
    "# MUltiply String\n",
    "print('a' * 4)"
   ]
  },
  {
   "cell_type": "code",
   "execution_count": 10,
   "id": "c646447f",
   "metadata": {},
   "outputs": [
    {
     "name": "stdout",
     "output_type": "stream",
     "text": [
      "['Gobi', 'Aloo', 'Palak', 'Mirche']\n",
      "Aloo\n"
     ]
    }
   ],
   "source": [
    "# List\n",
    "sabzi = ['Gobi','Aloo','Palak', 'Mirche']\n",
    "print(sabzi)\n",
    "# print specific index value\n",
    "print(sabzi[1])"
   ]
  },
  {
   "cell_type": "code",
   "execution_count": 15,
   "id": "fffeda84",
   "metadata": {},
   "outputs": [
    {
     "name": "stdout",
     "output_type": "stream",
     "text": [
      "[1, 5, 8, 44]\n",
      "8\n"
     ]
    }
   ],
   "source": [
    "# Store Number in List\n",
    "num = [1,5,8,44]\n",
    "print(num)\n",
    "print(num[2])"
   ]
  },
  {
   "cell_type": "code",
   "execution_count": 17,
   "id": "03471271",
   "metadata": {},
   "outputs": [
    {
     "name": "stdout",
     "output_type": "stream",
     "text": [
      "[1, 'ABD', 5, 'Ali', 8, 44]\n",
      "ABD\n",
      "5\n"
     ]
    }
   ],
   "source": [
    "# Store String and Number in a List\n",
    "num = [1,'ABD',5,'Ali',8,44]\n",
    "print(num)\n",
    "print(num[1])\n",
    "print(num[2])"
   ]
  },
  {
   "cell_type": "code",
   "execution_count": 18,
   "id": "89170485",
   "metadata": {},
   "outputs": [
    {
     "name": "stdout",
     "output_type": "stream",
     "text": [
      "[1, 'ABD', 5, 'Ali', 8, 44]\n",
      "[1, 'ABD', 5, 'Ali', 8, 44, 'FF']\n",
      "5\n"
     ]
    }
   ],
   "source": [
    "# Add Item in List\n",
    "num = [1,'ABD',5,'Ali',8,44]\n",
    "print(num)\n",
    "num.append('FF')\n",
    "print(num)\n",
    "print(num[2])"
   ]
  },
  {
   "cell_type": "code",
   "execution_count": 19,
   "id": "0705b70f",
   "metadata": {},
   "outputs": [
    {
     "name": "stdout",
     "output_type": "stream",
     "text": [
      "[1, 'ABD', 5, 'Ali', 8, 44]\n",
      "[1, 'ABD', 'Ali', 8, 44, 'FF']\n"
     ]
    }
   ],
   "source": [
    "# Delete Item from List\n",
    "num = [1,'ABD',5,'Ali',8,44]\n",
    "print(num)\n",
    "num.append('FF')\n",
    "del num[2]\n",
    "print(num)"
   ]
  },
  {
   "cell_type": "code",
   "execution_count": 20,
   "id": "6e6c0219",
   "metadata": {},
   "outputs": [
    {
     "name": "stdout",
     "output_type": "stream",
     "text": [
      "[1, 'ABD', 5, 'Ali', 8, 44, 'Ahmed', 'Qasim', 'Ashir']\n"
     ]
    }
   ],
   "source": [
    "# Combine 2  List\n",
    "num1 = [1,'ABD',5,'Ali',8,44]\n",
    "num2 = ['Ahmed','Qasim','Ashir']\n",
    "print(num1 + num2)"
   ]
  },
  {
   "cell_type": "code",
   "execution_count": 1,
   "id": "55fc480f",
   "metadata": {},
   "outputs": [
    {
     "name": "stdout",
     "output_type": "stream",
     "text": [
      "[1, 'ABD', 5, 'Ali', 8, 44, 'Ahmed', 'Qasim', 'Ashir']\n"
     ]
    }
   ],
   "source": [
    "# Combine 2  List & add into 3rd variable\n",
    "num1 = [1,'ABD',5,'Ali',8,44]\n",
    "num2 = ['Ahmed','Qasim','Ashir']\n",
    "num3 = num1 + num2\n",
    "print(num3)"
   ]
  },
  {
   "cell_type": "code",
   "execution_count": 2,
   "id": "edc6830c",
   "metadata": {},
   "outputs": [
    {
     "name": "stdout",
     "output_type": "stream",
     "text": [
      "[1, 44, 1, 44, 1, 44]\n"
     ]
    }
   ],
   "source": [
    "# Can Multiply list element\n",
    "num1 = [1,44]\n",
    "print(num1 * 3)"
   ]
  },
  {
   "cell_type": "code",
   "execution_count": 4,
   "id": "e7536906",
   "metadata": {},
   "outputs": [
    {
     "ename": "TypeError",
     "evalue": "unsupported operand type(s) for /: 'list' and 'int'",
     "output_type": "error",
     "traceback": [
      "\u001b[1;31m---------------------------------------------------------------------------\u001b[0m",
      "\u001b[1;31mTypeError\u001b[0m                                 Traceback (most recent call last)",
      "\u001b[1;32mC:\\Users\\ABDULA~1\\AppData\\Local\\Temp/ipykernel_5656/2907274414.py\u001b[0m in \u001b[0;36m<module>\u001b[1;34m\u001b[0m\n\u001b[0;32m      1\u001b[0m \u001b[1;31m# Can not  Divide and Substract list element\u001b[0m\u001b[1;33m\u001b[0m\u001b[1;33m\u001b[0m\u001b[0m\n\u001b[0;32m      2\u001b[0m \u001b[0mnum1\u001b[0m \u001b[1;33m=\u001b[0m \u001b[1;33m[\u001b[0m\u001b[1;36m1\u001b[0m\u001b[1;33m,\u001b[0m\u001b[1;36m44\u001b[0m\u001b[1;33m]\u001b[0m\u001b[1;33m\u001b[0m\u001b[1;33m\u001b[0m\u001b[0m\n\u001b[1;32m----> 3\u001b[1;33m \u001b[0mprint\u001b[0m\u001b[1;33m(\u001b[0m\u001b[0mnum1\u001b[0m \u001b[1;33m/\u001b[0m \u001b[1;36m3\u001b[0m\u001b[1;33m)\u001b[0m\u001b[1;33m\u001b[0m\u001b[1;33m\u001b[0m\u001b[0m\n\u001b[0m\u001b[0;32m      4\u001b[0m \u001b[0mprint\u001b[0m\u001b[1;33m(\u001b[0m\u001b[0mnum1\u001b[0m \u001b[1;33m-\u001b[0m \u001b[1;36m3\u001b[0m\u001b[1;33m)\u001b[0m\u001b[1;33m\u001b[0m\u001b[1;33m\u001b[0m\u001b[0m\n",
      "\u001b[1;31mTypeError\u001b[0m: unsupported operand type(s) for /: 'list' and 'int'"
     ]
    }
   ],
   "source": [
    "# Can not  Divide and Substract list element\n",
    "num1 = [1,44]\n",
    "print(num1 / 3)\n",
    "print(num1 - 3)"
   ]
  },
  {
   "cell_type": "code",
   "execution_count": 6,
   "id": "30a78451",
   "metadata": {},
   "outputs": [
    {
     "name": "stdout",
     "output_type": "stream",
     "text": [
      "(1, 4, 5, 7)\n"
     ]
    },
    {
     "ename": "TypeError",
     "evalue": "'tuple' object does not support item assignment",
     "output_type": "error",
     "traceback": [
      "\u001b[1;31m---------------------------------------------------------------------------\u001b[0m",
      "\u001b[1;31mTypeError\u001b[0m                                 Traceback (most recent call last)",
      "\u001b[1;32mC:\\Users\\ABDULA~1\\AppData\\Local\\Temp/ipykernel_5656/521318124.py\u001b[0m in \u001b[0;36m<module>\u001b[1;34m\u001b[0m\n\u001b[0;32m      2\u001b[0m \u001b[0mnum\u001b[0m \u001b[1;33m=\u001b[0m \u001b[1;33m(\u001b[0m\u001b[1;36m1\u001b[0m\u001b[1;33m,\u001b[0m \u001b[1;36m4\u001b[0m\u001b[1;33m,\u001b[0m \u001b[1;36m5\u001b[0m\u001b[1;33m,\u001b[0m \u001b[1;36m7\u001b[0m\u001b[1;33m)\u001b[0m\u001b[1;33m\u001b[0m\u001b[1;33m\u001b[0m\u001b[0m\n\u001b[0;32m      3\u001b[0m \u001b[0mprint\u001b[0m\u001b[1;33m(\u001b[0m\u001b[0mnum\u001b[0m\u001b[1;33m)\u001b[0m\u001b[1;33m\u001b[0m\u001b[1;33m\u001b[0m\u001b[0m\n\u001b[1;32m----> 4\u001b[1;33m \u001b[0mnum\u001b[0m\u001b[1;33m[\u001b[0m\u001b[1;36m0\u001b[0m\u001b[1;33m]\u001b[0m \u001b[1;33m=\u001b[0m \u001b[1;36m33\u001b[0m\u001b[1;33m\u001b[0m\u001b[1;33m\u001b[0m\u001b[0m\n\u001b[0m\u001b[0;32m      5\u001b[0m \u001b[0mprint\u001b[0m\u001b[1;33m(\u001b[0m\u001b[0mnum\u001b[0m\u001b[1;33m)\u001b[0m\u001b[1;33m\u001b[0m\u001b[1;33m\u001b[0m\u001b[0m\n",
      "\u001b[1;31mTypeError\u001b[0m: 'tuple' object does not support item assignment"
     ]
    }
   ],
   "source": [
    "# Tuples are enclosed in () parenthesis and can not be updated\n",
    "num = (1, 4, 5, 7)\n",
    "print(num)\n",
    "num[0] = 33\n",
    "print(num)"
   ]
  },
  {
   "cell_type": "code",
   "execution_count": 8,
   "id": "828a13ec",
   "metadata": {},
   "outputs": [
    {
     "name": "stdout",
     "output_type": "stream",
     "text": [
      "{'Ali': 'Cricket', 'Hamza': 'Football', 'Shaheer': 'Tennis', 'Aashir': 'Hockey'}\n",
      "{'Ali': 'Mobile Game', 'Hamza': 'Football', 'Shaheer': 'Tennis', 'Aashir': 'Hockey'}\n"
     ]
    }
   ],
   "source": [
    "# Maps in Like a List & Tuples Diferrence is that it has a key Like Json Object\n",
    "sportsManList = {\n",
    "    'Ali' : 'Cricket',\n",
    "    'Hamza' : 'Football',\n",
    "    'Shaheer' : 'Tennis',\n",
    "    'Aashir' : 'Hockey',\n",
    "}\n",
    "print(sportsManList)\n",
    "# Update Value on Specific Key\n",
    "sportsManList['Ali'] = 'Mobile Game'\n",
    "print(sportsManList)"
   ]
  },
  {
   "cell_type": "code",
   "execution_count": null,
   "id": "57dad3d4",
   "metadata": {},
   "outputs": [],
   "source": []
  }
 ],
 "metadata": {
  "kernelspec": {
   "display_name": "Python 3 (ipykernel)",
   "language": "python",
   "name": "python3"
  },
  "language_info": {
   "codemirror_mode": {
    "name": "ipython",
    "version": 3
   },
   "file_extension": ".py",
   "mimetype": "text/x-python",
   "name": "python",
   "nbconvert_exporter": "python",
   "pygments_lexer": "ipython3",
   "version": "3.9.7"
  }
 },
 "nbformat": 4,
 "nbformat_minor": 5
}
